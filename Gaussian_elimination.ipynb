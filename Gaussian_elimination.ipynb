{
 "cells": [
  {
   "cell_type": "markdown",
   "metadata": {},
   "source": [
    "A numerical method for solving systems of linear equations known as the Gauss method."
   ]
  },
  {
   "cell_type": "code",
   "execution_count": 45,
   "metadata": {},
   "outputs": [],
   "source": [
    "# Connection libraries\n",
    "import numpy as np\n",
    "import matplotlib.pyplot as plt\n",
    "import pandas as pd\n",
    "import seaborn as sns\n",
    "import scipy as sp\n",
    "import scipy.linalg as la\n",
    "import sympy as sym\n",
    "from sympy import *\n",
    "from sympy import init_printing\n",
    "init_printing(use_latex='mathjax') # Latex output"
   ]
  },
  {
   "cell_type": "code",
   "execution_count": 183,
   "metadata": {},
   "outputs": [],
   "source": [
    "# Definition of input data\n",
    "N = 3 # number of equations\n",
    "A = np.array([[1, 1, 1], [2, 2, 3], [3, 4, 5]]) # coefficient matrix\n",
    "b = np.array([2, 3, 5]) # right-hand side vector"
   ]
  },
  {
   "cell_type": "markdown",
   "metadata": {},
   "source": [
    "Task: Solve the system of linear equations $Ax=b$.\n",
    "\\begin{equation*}\n",
    "    A = \n",
    "    \\begin{bmatrix}\n",
    "        1 & 2 & 3 \\\\\n",
    "        4 & 5 & 6 \\\\\n",
    "        7 & 8 & 10\n",
    "    \\end{bmatrix}, \\quad\n",
    "    b = \n",
    "    \\begin{bmatrix}\n",
    "        1 \\\\\n",
    "        2 \\\\\n",
    "        3\n",
    "    \\end{bmatrix}\n",
    "\\end{equation*}"
   ]
  },
  {
   "cell_type": "code",
   "execution_count": 184,
   "metadata": {},
   "outputs": [],
   "source": [
    "# Gaussian elimination without changing the input data\n",
    "def gauss_elim(A, b):\n",
    "    # Initialization\n",
    "    A = np.array(A, dtype=float)\n",
    "    b = np.array(b, dtype=float)\n",
    "    N = len(b)\n",
    "    # Forward elimination\n",
    "    for k in range(N-1):\n",
    "        for i in range(k+1, N):\n",
    "            if A[i, k] != 0.0:\n",
    "                lam = A[i, k]/A[k, k]\n",
    "                A[i, k+1:N] = A[i, k+1:N] - lam*A[k, k+1:N]\n",
    "                b[i] = b[i] - lam*b[k]\n",
    "    # Back substitution\n",
    "    for k in range(N-1, -1, -1):\n",
    "        b[k] = (b[k] - np.dot(A[k, k+1:N], b[k+1:N]))/A[k, k]\n",
    "    return b"
   ]
  },
  {
   "cell_type": "code",
   "execution_count": 185,
   "metadata": {},
   "outputs": [],
   "source": [
    "# Gaussian elimination with the choice of the pivot with the largest absolute value without changing the input data\n",
    "def gauss_elim_pivot(A, b):\n",
    "    # Initialization\n",
    "    A = np.array(A, dtype=float)\n",
    "    b = np.array(b, dtype=float)\n",
    "    N = len(b)\n",
    "    # Forward elimination\n",
    "    for k in range(N-1):\n",
    "        # Search the pivot\n",
    "        p = np.argmax(np.abs(A[k:N, k])) + k\n",
    "        if A[p, k] == 0:\n",
    "            print('Matrix is singular!')\n",
    "            return\n",
    "        # Change the rows\n",
    "        if p != k:\n",
    "            A[[k, p]] = A[[p, k]]\n",
    "            b[[k, p]] = b[[p, k]]\n",
    "        # Elimination\n",
    "        for i in range(k+1, N):\n",
    "            if A[i, k] != 0.0:\n",
    "                lam = A[i, k]/A[k, k]\n",
    "                A[i, k+1:N] = A[i, k+1:N] - lam*A[k, k+1:N]\n",
    "                b[i] = b[i] - lam*b[k]\n",
    "    # Back substitution\n",
    "    for k in range(N-1, -1, -1):\n",
    "        b[k] = (b[k] - np.dot(A[k, k+1:N], b[k+1:N]))/A[k, k]\n",
    "    return b"
   ]
  },
  {
   "cell_type": "code",
   "execution_count": 186,
   "metadata": {},
   "outputs": [
    {
     "name": "stdout",
     "output_type": "stream",
     "text": [
      "[[1 1 1]\n",
      " [2 2 3]\n",
      " [3 4 5]] [2 3 5]\n",
      "Solution of the system of linear equations by Gaussian elimination:  [nan nan nan]\n",
      "Solution of the system of linear equations by Gaussian elimination with the choice of the pivot:  [ 2.  1. -1.]\n",
      "Solution of linear equations using numpy:  [ 2.  1. -1.]\n"
     ]
    },
    {
     "name": "stderr",
     "output_type": "stream",
     "text": [
      "C:\\Users\\stas2\\AppData\\Local\\Temp\\ipykernel_16168\\2450353070.py:11: RuntimeWarning: divide by zero encountered in double_scalars\n",
      "  lam = A[i, k]/A[k, k]\n",
      "C:\\Users\\stas2\\AppData\\Local\\Temp\\ipykernel_16168\\2450353070.py:16: RuntimeWarning: invalid value encountered in double_scalars\n",
      "  b[k] = (b[k] - np.dot(A[k, k+1:N], b[k+1:N]))/A[k, k]\n"
     ]
    }
   ],
   "source": [
    "# Output\n",
    "print(A, b)\n",
    "print('Solution of the system of linear equations by Gaussian elimination: ', gauss_elim(A, b))\n",
    "print('Solution of the system of linear equations by Gaussian elimination with the choice of the pivot: ', gauss_elim_pivot(A, b))\n",
    "print('Solution of linear equations using numpy: ', np.linalg.solve(A, b))"
   ]
  }
 ],
 "metadata": {
  "kernelspec": {
   "display_name": "Python 3.9.10 64-bit",
   "language": "python",
   "name": "python3"
  },
  "language_info": {
   "codemirror_mode": {
    "name": "ipython",
    "version": 3
   },
   "file_extension": ".py",
   "mimetype": "text/x-python",
   "name": "python",
   "nbconvert_exporter": "python",
   "pygments_lexer": "ipython3",
   "version": "3.9.10"
  },
  "orig_nbformat": 4,
  "vscode": {
   "interpreter": {
    "hash": "670f886bb491df400b8a46c547cdac4d4234710212a6195cc7ddd83502d821f4"
   }
  }
 },
 "nbformat": 4,
 "nbformat_minor": 2
}
