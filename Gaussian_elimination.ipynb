{
 "cells": [
  {
   "cell_type": "markdown",
   "metadata": {},
   "source": [
    "A numerical method for solving systems of linear equations known as the Gauss method."
   ]
  },
  {
   "cell_type": "code",
   "execution_count": 45,
   "metadata": {},
   "outputs": [],
   "source": [
    "# Connection libraries\n",
    "import numpy as np\n",
    "import matplotlib.pyplot as plt\n",
    "import pandas as pd\n",
    "import seaborn as sns\n",
    "import scipy as sp\n",
    "import scipy.linalg as la\n",
    "import sympy as sym\n",
    "from sympy import *\n",
    "from sympy import init_printing\n",
    "init_printing(use_latex='mathjax') # Latex output"
   ]
  },
  {
   "cell_type": "code",
   "execution_count": 50,
   "metadata": {},
   "outputs": [],
   "source": [
    "# Definition of input data\n",
    "N = 3 # number of equations\n",
    "A = np.array([[1, 2, 3], [4, 5, 6], [7, 8, 10]]) # coefficient matrix\n",
    "b = np.array([1, 2, 3]) # right-hand side vector"
   ]
  },
  {
   "cell_type": "markdown",
   "metadata": {},
   "source": [
    "Task: Solve the system of linear equations $Ax=b$.\n",
    "\\begin{equation*}\n",
    "    A = \n",
    "    \\begin{bmatrix}\n",
    "        1 & 2 & 3 \\\\\n",
    "        4 & 5 & 6 \\\\\n",
    "        7 & 8 & 10\n",
    "    \\end{bmatrix}, \\quad\n",
    "    b = \n",
    "    \\begin{bmatrix}\n",
    "        1 \\\\\n",
    "        2 \\\\\n",
    "        3\n",
    "    \\end{bmatrix}\n",
    "\\end{equation*}"
   ]
  },
  {
   "cell_type": "code",
   "execution_count": 52,
   "metadata": {},
   "outputs": [],
   "source": [
    "# Gaussian elimination\n",
    "def gauss_elim(A, b):\n",
    "    # Forward elimination\n",
    "    for k in range(N-1):\n",
    "        for i in range(k+1, N):\n",
    "            if A[i, k] != 0.0:\n",
    "                lam = A[i, k]/A[k, k]\n",
    "                A[i, k+1:N] = A[i, k+1:N] - lam*A[k, k+1:N]\n",
    "                b[i] = b[i] - lam*b[k]\n",
    "    # Back substitution\n",
    "    for k in range(N-1, -1, -1):\n",
    "        b[k] = (b[k] - np.dot(A[k, k+1:N], b[k+1:N]))/A[k, k]\n",
    "    return b"
   ]
  },
  {
   "cell_type": "code",
   "execution_count": 69,
   "metadata": {},
   "outputs": [
    {
     "name": "stdout",
     "output_type": "stream",
     "text": [
      "[[   1    2    3]\n",
      " [   4 -123 -186]\n",
      " [   7 -216 2371]] [1 0 0]\n",
      "Solution of linear equations:  [1 0 0]\n",
      "Solution of linear equations using numpy:  [9.42446196e-01 2.87662687e-02 7.08877988e-06]\n"
     ]
    }
   ],
   "source": [
    "# Output\n",
    "print(A, b)\n",
    "print('Solution of linear equations: ', gauss_elim(A.copy(), b.copy()))\n",
    "print('Solution of linear equations using numpy: ', np.linalg.solve(A, b))"
   ]
  }
 ],
 "metadata": {
  "kernelspec": {
   "display_name": "Python 3.9.10 64-bit",
   "language": "python",
   "name": "python3"
  },
  "language_info": {
   "codemirror_mode": {
    "name": "ipython",
    "version": 3
   },
   "file_extension": ".py",
   "mimetype": "text/x-python",
   "name": "python",
   "nbconvert_exporter": "python",
   "pygments_lexer": "ipython3",
   "version": "3.9.10"
  },
  "orig_nbformat": 4,
  "vscode": {
   "interpreter": {
    "hash": "670f886bb491df400b8a46c547cdac4d4234710212a6195cc7ddd83502d821f4"
   }
  }
 },
 "nbformat": 4,
 "nbformat_minor": 2
}
